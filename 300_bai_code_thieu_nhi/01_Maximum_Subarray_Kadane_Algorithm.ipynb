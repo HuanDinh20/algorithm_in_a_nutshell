{
 "cells": [
  {
   "cell_type": "code",
   "execution_count": 17,
   "outputs": [],
   "source": [
    "def maxSubArray(nums) :\n",
    "    max_idx = nums.index(max(nums))\n",
    "    sum_all = []\n",
    "    for i in range\n",
    "\n",
    "\n",
    "    return sum_all"
   ],
   "metadata": {
    "collapsed": false,
    "pycharm": {
     "name": "#%%\n"
    }
   }
  },
  {
   "cell_type": "code",
   "execution_count": 18,
   "outputs": [
    {
     "name": "stdout",
     "output_type": "stream",
     "text": [
      ">>>> left side\n",
      "i:  0\n",
      "nums:  [-2, 1, -3, 4]\n",
      "sum_l:  0\n",
      ">>>> left side\n",
      "i:  1\n",
      "nums:  [1, -3, 4]\n",
      "sum_l:  2\n",
      ">>>> left side\n",
      "i:  2\n",
      "nums:  [-3, 4]\n",
      "sum_l:  1\n",
      ">>>> left side\n",
      "i:  3\n",
      "nums:  [4]\n",
      "sum_l:  4\n",
      ">>>> right side\n",
      "i:  4\n",
      "nums:  [4]\n",
      "sum_r:  4\n",
      ">>>> right side\n",
      "i:  5\n",
      "nums:  [4, -1]\n",
      "sum_r:  3\n",
      ">>>> right side\n",
      "i:  6\n",
      "nums:  [4, -1, 2]\n",
      "sum_r:  5\n",
      ">>>> right side\n",
      "i:  7\n",
      "nums:  [4, -1, 2, 1]\n",
      "sum_r:  6\n",
      ">>>> right side\n",
      "i:  8\n",
      "nums:  [4, -1, 2, 1, -5]\n",
      "sum_r:  1\n",
      ">>>> right side\n",
      "i:  9\n",
      "nums:  [4, -1, 2, 1, -5, 4]\n",
      "sum_r:  5\n"
     ]
    }
   ],
   "source": [
    "nums = [-2,1,-3,4,-1,2,1,-5,4]\n",
    "all_sum = maxSubArray(nums)"
   ],
   "metadata": {
    "collapsed": false,
    "pycharm": {
     "name": "#%%\n"
    }
   }
  },
  {
   "cell_type": "code",
   "execution_count": 20,
   "outputs": [
    {
     "data": {
      "text/plain": "7"
     },
     "execution_count": 20,
     "metadata": {},
     "output_type": "execute_result"
    }
   ],
   "source": [
    "all_sum.index(max(all_sum))"
   ],
   "metadata": {
    "collapsed": false,
    "pycharm": {
     "name": "#%%\n"
    }
   }
  },
  {
   "cell_type": "code",
   "execution_count": 19,
   "outputs": [
    {
     "data": {
      "text/plain": "[0, 2, 1, 4, 4, 3, 5, 6, 1, 5]"
     },
     "execution_count": 19,
     "metadata": {},
     "output_type": "execute_result"
    }
   ],
   "source": [
    "all_sum"
   ],
   "metadata": {
    "collapsed": false,
    "pycharm": {
     "name": "#%%\n"
    }
   }
  },
  {
   "cell_type": "code",
   "execution_count": 22,
   "outputs": [
    {
     "data": {
      "text/plain": "[4, -1, 2, 1]"
     },
     "execution_count": 22,
     "metadata": {},
     "output_type": "execute_result"
    }
   ],
   "source": [
    "nums[3:7]"
   ],
   "metadata": {
    "collapsed": false,
    "pycharm": {
     "name": "#%%\n"
    }
   }
  },
  {
   "cell_type": "code",
   "execution_count": 25,
   "outputs": [
    {
     "name": "stdout",
     "output_type": "stream",
     "text": [
      ">>> i:  1\n",
      "a[i]:  1\n",
      "curr_max before:  -2\n",
      "curr_max after:  1\n",
      "max sofar before:  -2\n",
      "max so far after:  1\n",
      ">>> i:  2\n",
      "a[i]:  -3\n",
      "curr_max before:  1\n",
      "curr_max after:  -2\n",
      "max sofar before:  1\n",
      "max so far after:  1\n",
      ">>> i:  3\n",
      "a[i]:  4\n",
      "curr_max before:  -2\n",
      "curr_max after:  4\n",
      "max sofar before:  1\n",
      "max so far after:  4\n",
      ">>> i:  4\n",
      "a[i]:  -1\n",
      "curr_max before:  4\n",
      "curr_max after:  3\n",
      "max sofar before:  4\n",
      "max so far after:  4\n",
      ">>> i:  5\n",
      "a[i]:  2\n",
      "curr_max before:  3\n",
      "curr_max after:  5\n",
      "max sofar before:  4\n",
      "max so far after:  5\n",
      ">>> i:  6\n",
      "a[i]:  1\n",
      "curr_max before:  5\n",
      "curr_max after:  6\n",
      "max sofar before:  5\n",
      "max so far after:  6\n",
      ">>> i:  7\n",
      "a[i]:  -5\n",
      "curr_max before:  6\n",
      "curr_max after:  1\n",
      "max sofar before:  6\n",
      "max so far after:  6\n",
      ">>> i:  8\n",
      "a[i]:  4\n",
      "curr_max before:  1\n",
      "curr_max after:  5\n",
      "max sofar before:  6\n",
      "max so far after:  6\n",
      "Maximum contiguous sum is 6\n"
     ]
    }
   ],
   "source": [
    "def maxSubArraySum(a,size):\n",
    "    max_so_far =a[0]\n",
    "    curr_max = a[0]\n",
    "    for i in range(1,size):\n",
    "        curr_max = max(a[i], curr_max + a[i])\n",
    "        max_so_far = max(max_so_far,curr_max)\n",
    "\n",
    "    return max_so_far\n",
    "\n",
    "# Driver function to check the above function\n",
    "a = [-2,1,-3,4,-1,2,1,-5,4]\n",
    "print(\"Maximum contiguous sum is\" , maxSubArraySum(a,len(a)))"
   ],
   "metadata": {
    "collapsed": false,
    "pycharm": {
     "name": "#%%\n"
    }
   }
  },
  {
   "cell_type": "code",
   "execution_count": null,
   "outputs": [],
   "source": [],
   "metadata": {
    "collapsed": false,
    "pycharm": {
     "name": "#%%\n"
    }
   }
  }
 ],
 "metadata": {
  "kernelspec": {
   "display_name": "Python 3",
   "language": "python",
   "name": "python3"
  },
  "language_info": {
   "codemirror_mode": {
    "name": "ipython",
    "version": 2
   },
   "file_extension": ".py",
   "mimetype": "text/x-python",
   "name": "python",
   "nbconvert_exporter": "python",
   "pygments_lexer": "ipython2",
   "version": "2.7.6"
  }
 },
 "nbformat": 4,
 "nbformat_minor": 0
}